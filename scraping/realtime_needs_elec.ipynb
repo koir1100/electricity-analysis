{
 "cells": [
  {
   "cell_type": "code",
   "execution_count": 1,
   "metadata": {},
   "outputs": [],
   "source": [
    "from selenium import webdriver\n",
    "from selenium.webdriver import ActionChains\n",
    "from selenium.webdriver.chrome.service import Service\n",
    "from selenium.webdriver.chrome.options import Options\n",
    "from selenium.webdriver.common.by import By\n",
    "from webdriver_manager.chrome import ChromeDriverManager\n",
    "\n",
    "import time\n",
    "\n",
    "options = Options()\n",
    "options.add_argument(\"--disable-popup-blocking\")\n",
    "# options.add_argument(\"--incognito\")\n",
    "\n",
    "driver = webdriver.Chrome(service=Service(ChromeDriverManager().install()), options=options)\n",
    "\n",
    "# 크롬 브라우저 최대화 수행\n",
    "driver.maximize_window()\n",
    "driver.get(\"https://epsis.kpx.or.kr/epsisnew/selectEkgeEpsMepRealChart.do?menuId=030300\")\n",
    "driver.implicitly_wait(0.5)\n",
    "\n",
    "button = driver.find_element(By.XPATH, '//*[@id=\"pageChart\"]/div/div[1]/div/span[1]/button[1]')\n",
    "ActionChains(driver).click(button).perform()\n",
    "\n"
   ]
  },
  {
   "cell_type": "code",
   "execution_count": null,
   "metadata": {},
   "outputs": [],
   "source": [
    "flag = True\n",
    "\n",
    "for i in range(1, 6):\n",
    "    input_date = None\n",
    "\n",
    "    for j in range(1, 8):\n",
    "        if flag:\n",
    "            button = driver.find_element(By.XPATH, '//*[@id=\"pageChart\"]/div/div[1]/div/span[1]/button[1]')\n",
    "            ActionChains(driver).click(button).perform()\n",
    "            time.sleep(1)\n",
    "        \n",
    "        print(f\"row: {i}, column: {j}\")\n",
    "        input_date = driver.find_element(By.XPATH, '//*[@id=\"ui-datepicker-div\"]/table/tbody/tr['+str(i)+']/td[' +str(j)+']')\n",
    "\n",
    "        if input_date.text.strip():\n",
    "            input_date.click()\n",
    "            time.sleep(1)\n",
    "            driver.execute_script(\"csvExport();\")\n",
    "            time.sleep(1)\n",
    "\n",
    "            flag = True\n",
    "        else:\n",
    "            flag = False\n"
   ]
  }
 ],
 "metadata": {
  "kernelspec": {
   "display_name": "Python 3",
   "language": "python",
   "name": "python3"
  },
  "language_info": {
   "codemirror_mode": {
    "name": "ipython",
    "version": 3
   },
   "file_extension": ".py",
   "mimetype": "text/x-python",
   "name": "python",
   "nbconvert_exporter": "python",
   "pygments_lexer": "ipython3",
   "version": "3.9.13"
  }
 },
 "nbformat": 4,
 "nbformat_minor": 2
}
